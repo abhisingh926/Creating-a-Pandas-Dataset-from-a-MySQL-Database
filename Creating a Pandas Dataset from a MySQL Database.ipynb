{
 "cells": [
  {
   "cell_type": "code",
   "execution_count": 1,
   "metadata": {
    "scrolled": true
   },
   "outputs": [
    {
     "name": "stdout",
     "output_type": "stream",
     "text": [
      "Collecting mysql.connector\n",
      "  Downloading mysql-connector-2.2.9.tar.gz (11.9 MB)\n",
      "\u001b[K     |████████████████████████████████| 11.9 MB 9.5 MB/s eta 0:00:01\n",
      "\u001b[?25hBuilding wheels for collected packages: mysql.connector\n",
      "  Building wheel for mysql.connector (setup.py) ... \u001b[?25ldone\n",
      "\u001b[?25h  Created wheel for mysql.connector: filename=mysql_connector-2.2.9-cp38-cp38-linux_x86_64.whl size=247948 sha256=c3e5331bd2cfddd9f401b6fb4c479916d9f72b233beca2fbaf17f4890222c8f6\n",
      "  Stored in directory: /home/abhishek/.cache/pip/wheels/57/e4/98/5feafb5c393dd2540e44b064a6f95832990d543e5b4f53ea8f\n",
      "Successfully built mysql.connector\n",
      "Installing collected packages: mysql.connector\n",
      "Successfully installed mysql.connector\n"
     ]
    }
   ],
   "source": [
    "! pip3 install mysql.connector"
   ]
  },
  {
   "cell_type": "code",
   "execution_count": 11,
   "metadata": {},
   "outputs": [],
   "source": [
    "import mysql.connector"
   ]
  },
  {
   "cell_type": "code",
   "execution_count": 12,
   "metadata": {},
   "outputs": [],
   "source": [
    "  mysqldb = mysql.connector.connect(\n",
    "    \n",
    "    host = \"ec2-3-6-118-235.ap-south-1.compute.amazonaws.com\",  \n",
    "    user     = \"admin\",\n",
    "    passwd = \"Ornate$aditya01\",\n",
    "    database = \"ornate_final_2\",\n",
    "    auth_plugin= \"mysql_native_password\"\n",
    "  )"
   ]
  },
  {
   "cell_type": "code",
   "execution_count": 13,
   "metadata": {},
   "outputs": [],
   "source": [
    "mycursor = mysqldb.cursor()"
   ]
  },
  {
   "cell_type": "code",
   "execution_count": 20,
   "metadata": {},
   "outputs": [],
   "source": [
    "mycursor.execute('select * from accounts_user')\n",
    "\n",
    "users=mycursor.fetchall()"
   ]
  },
  {
   "cell_type": "code",
   "execution_count": 18,
   "metadata": {
    "scrolled": true
   },
   "outputs": [
    {
     "name": "stdout",
     "output_type": "stream",
     "text": [
      "Abhishek Kumar\n",
      "Anishaa Paul\n",
      "Varun Raj\n",
      "Aashish Berry\n",
      "Richard \n",
      "Ronald varghese\n",
      "Harrish \n",
      "Ajin \n",
      "Pooja Rawat\n",
      "Amit Sharma\n",
      "Amit Negi\n",
      "Amit Kumar Singh\n",
      "Apurva Bali\n",
      "Bijoy George\n",
      "Geetu Bhateja\n",
      "Kartik \n",
      "Chetan .\n",
      "Rajender \n",
      "Manish Dhuria\n",
      "Madhusmita/Seema Madhusmita\n",
      "Sunny Kashyap\n",
      "Rajasthan .\n",
      "Sanjay Shah\n",
      "ADITYA \n",
      "Arvind Jain\n",
      "Astha Jain\n",
      "Raman Kumar\n",
      "Rohit Raj\n",
      " \n",
      "Anjali \n",
      "Admin Test\n",
      "Team Leader Test\n",
      "User Test\n",
      "Tarini Goel\n",
      "Madhu Sharma\n",
      "Pragya Singh\n",
      "Anmol Narang\n",
      "Shakti Singh\n",
      "Twinkle Tiwari\n",
      "Pooja Srivastava\n",
      "Pratik Raj\n",
      "Anvar Ali\n",
      "Vikas Rawat\n",
      "Siddhant Singh\n",
      " \n",
      "Ashish Parcha\n",
      "Parvej Alam\n",
      "Raj Kumar\n",
      "Shivangi SIngh\n",
      "Himanshu Rana\n",
      "Surjendu Das\n",
      "Kanika Shankar\n",
      "Madhusmita Mahakud\n",
      "Justina Indwar\n",
      "Seema Roy\n",
      "Justina Indwar\n",
      "Rahul .\n"
     ]
    }
   ],
   "source": [
    "for i in users:\n",
    "    print(i[5],i[6])"
   ]
  }
 ],
 "metadata": {
  "kernelspec": {
   "display_name": "Python 3",
   "language": "python",
   "name": "python3"
  },
  "language_info": {
   "codemirror_mode": {
    "name": "ipython",
    "version": 3
   },
   "file_extension": ".py",
   "mimetype": "text/x-python",
   "name": "python",
   "nbconvert_exporter": "python",
   "pygments_lexer": "ipython3",
   "version": "3.8.10"
  }
 },
 "nbformat": 4,
 "nbformat_minor": 4
}
